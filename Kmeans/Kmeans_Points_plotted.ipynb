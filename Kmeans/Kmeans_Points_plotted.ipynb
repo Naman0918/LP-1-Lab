{
 "cells": [
  {
   "cell_type": "markdown",
   "metadata": {},
   "source": [
    "# Clustering: K-Means\n",
    "We have given a collection of 8 points. P1=[0.1,0.6] P2=[0.15,0.71]\n",
    "P3=[0.08,0.9] P4=[0.16, 0.85] P5=[0.2,0.3] P6=[0.25,0.5]\n",
    "P7=[0.24,0.1] P8=[0.3,0.2]. Perform the k-mean clustering with initial centroids\n",
    "as m1=P1 =Cluster#1=C1 and m2=P8=cluster#2=C2. Answer the following 1]\n",
    "Which cluster does P6 belongs to? 2] What is the population of a cluster around\n",
    "m2? 3]\n",
    "What is the updated value of m1 and m2?"
   ]
  },
  {
   "cell_type": "code",
   "execution_count": 10,
   "metadata": {},
   "outputs": [
    {
     "name": "stdout",
     "output_type": "stream",
     "text": [
      "1. Cluster of P6: 1\n",
      "2. Population of Cluster around m2: 3\n",
      "3. Updated value of m1: [0.148 0.712]\n",
      "   Updated value of m2: [0.24666667 0.2       ]\n"
     ]
    },
    {
     "name": "stderr",
     "output_type": "stream",
     "text": [
      "/Library/Frameworks/Python.framework/Versions/3.11/lib/python3.11/site-packages/sklearn/cluster/_kmeans.py:1412: FutureWarning: The default value of `n_init` will change from 10 to 'auto' in 1.4. Set the value of `n_init` explicitly to suppress the warning\n",
      "  super()._check_params_vs_input(X, default_n_init=10)\n",
      "/Library/Frameworks/Python.framework/Versions/3.11/lib/python3.11/site-packages/sklearn/cluster/_kmeans.py:1412: RuntimeWarning: Explicit initial center position passed: performing only one init in KMeans instead of n_init=10.\n",
      "  super()._check_params_vs_input(X, default_n_init=10)\n"
     ]
    },
    {
     "data": {
      "image/png": "[encoded data removed]",
      "text/plain": [
       "<Figure size 640x480 with 1 Axes>"
      ]
     },
     "metadata": {},
     "output_type": "display_data"
    }
   ],
   "source": [
    "import numpy as np\n",
    "from sklearn.cluster import KMeans\n",
    "import matplotlib.pyplot as plt\n",
    "\n",
    "# Given points\n",
    "points = np.array([[0.1, 0.6], [0.15, 0.71], [0.08, 0.9], [0.16, 0.85], [0.2, 0.3], [0.25, 0.5], [0.24, 0.1], [0.3, 0.2]])\n",
    "\n",
    "# Initial centroids\n",
    "m1 = np.array([0.1, 0.6])\n",
    "m2 = np.array([0.3, 0.2])\n",
    "\n",
    "# Perform k-means clustering with k=2\n",
    "kmeans = KMeans(n_clusters=2, init=np.array([m1, m2]), random_state=42)\n",
    "kmeans.fit(points)\n",
    "\n",
    "# Assign points to clusters\n",
    "clusters = kmeans.predict(points)\n",
    "\n",
    "# Answer the questions\n",
    "# 1. Which cluster does P6 belong to?\n",
    "p6 = np.array([0.25, 0.5])\n",
    "cluster_p6 = kmeans.predict([p6])[0]\n",
    "\n",
    "# 2. What is the population of a cluster around m2?\n",
    "population_m2 = np.sum(clusters == kmeans.predict([m2])[0])\n",
    "\n",
    "# 3. What is the updated value of m1 and m2?\n",
    "updated_m1 = kmeans.cluster_centers_[0]\n",
    "updated_m2 = kmeans.cluster_centers_[1]\n",
    "\n",
    "plt.scatter(points[:, 0], points[:, 1], c=clusters, cmap='viridis') \n",
    "# points[:, 0] means all the rows of the first column\n",
    "# points[:, 1] means all the rows of the second column\n",
    "\n",
    "plt.plot(m1[0], m1[1], c='red', marker='x')\n",
    "plt.plot(m2[0], m2[1], c='red', marker='x')\n",
    "\n",
    "# Display results\n",
    "print(f\"1. Cluster of P6: {cluster_p6 + 1}\")\n",
    "print(f\"2. Population of Cluster around m2: {population_m2}\")\n",
    "print(f\"3. Updated value of m1: {updated_m1}\")\n",
    "print(f\"   Updated value of m2: {updated_m2}\")\n"
   ]
  },
  {
   "cell_type": "code",
   "execution_count": null,
   "metadata": {},
   "outputs": [],
   "source": []
  }
 ],
 "metadata": {
  "kernelspec": {
   "display_name": "Python 3",
   "language": "python",
   "name": "python3"
  },
  "language_info": {
   "codemirror_mode": {
    "name": "ipython",
    "version": 3
   },
   "file_extension": ".py",
   "mimetype": "text/x-python",
   "name": "python",
   "nbconvert_exporter": "python",
   "pygments_lexer": "ipython3",
   "version": "3.11.4"
  }
 },
 "nbformat": 4,
 "nbformat_minor": 2
}
