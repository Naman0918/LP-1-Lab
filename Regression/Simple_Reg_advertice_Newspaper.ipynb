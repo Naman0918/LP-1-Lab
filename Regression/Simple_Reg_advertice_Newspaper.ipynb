{
 "cells": [
  {
   "cell_type": "markdown",
   "metadata": {},
   "source": [
    "Regression: Simple Linear\n",
    "Dataset: advertising.csv\n",
    "Apply Data pre-processing (Label Encoding , Data Transformation….)\n",
    "techniques if necessary.\n",
    "Explore whether TV advertising spending can predict the number of sales for\n",
    "the product. Also display the regression results and plot the\n",
    "regression line."
   ]
  },
  {
   "cell_type": "code",
   "execution_count": 1,
   "metadata": {},
   "outputs": [],
   "source": [
    "import pandas as pd\n",
    "import numpy as np\n",
    "import matplotlib.pyplot as plt\n",
    "import seaborn as sns\n",
    "from sklearn.model_selection import train_test_split\n",
    "from sklearn.linear_model import LinearRegression\n",
    "from sklearn.preprocessing import StandardScaler"
   ]
  },
  {
   "cell_type": "code",
   "execution_count": 2,
   "metadata": {},
   "outputs": [],
   "source": [
    "df = pd.read_csv(\"/Users/namanlabhsetwar/Desktop/Sem 5 Practical/ML- Lab Assignments/LP-1 Dataset/Regression/advertising.csv\")"
   ]
  },
  {
   "cell_type": "code",
   "execution_count": 3,
   "metadata": {},
   "outputs": [
    {
     "data": {
      "text/html": [
       "<div>\n",
       "<style scoped>\n",
       "    .dataframe tbody tr th:only-of-type {\n",
       "        vertical-align: middle;\n",
       "    }\n",
       "\n",
       "    .dataframe tbody tr th {\n",
       "        vertical-align: top;\n",
       "    }\n",
       "\n",
       "    .dataframe thead th {\n",
       "        text-align: right;\n",
       "    }\n",
       "</style>\n",
       "<table border=\"1\" class=\"dataframe\">\n",
       "  <thead>\n",
       "    <tr style=\"text-align: right;\">\n",
       "      <th></th>\n",
       "      <th>TV</th>\n",
       "      <th>Radio</th>\n",
       "      <th>Newspaper</th>\n",
       "      <th>Sales</th>\n",
       "    </tr>\n",
       "  </thead>\n",
       "  <tbody>\n",
       "    <tr>\n",
       "      <th>0</th>\n",
       "      <td>230.1</td>\n",
       "      <td>37.8</td>\n",
       "      <td>69.2</td>\n",
       "      <td>22.1</td>\n",
       "    </tr>\n",
       "    <tr>\n",
       "      <th>1</th>\n",
       "      <td>44.5</td>\n",
       "      <td>39.3</td>\n",
       "      <td>45.1</td>\n",
       "      <td>10.4</td>\n",
       "    </tr>\n",
       "    <tr>\n",
       "      <th>2</th>\n",
       "      <td>17.2</td>\n",
       "      <td>45.9</td>\n",
       "      <td>69.3</td>\n",
       "      <td>12.0</td>\n",
       "    </tr>\n",
       "    <tr>\n",
       "      <th>3</th>\n",
       "      <td>151.5</td>\n",
       "      <td>41.3</td>\n",
       "      <td>58.5</td>\n",
       "      <td>16.5</td>\n",
       "    </tr>\n",
       "    <tr>\n",
       "      <th>4</th>\n",
       "      <td>180.8</td>\n",
       "      <td>10.8</td>\n",
       "      <td>58.4</td>\n",
       "      <td>17.9</td>\n",
       "    </tr>\n",
       "    <tr>\n",
       "      <th>5</th>\n",
       "      <td>8.7</td>\n",
       "      <td>48.9</td>\n",
       "      <td>75.0</td>\n",
       "      <td>7.2</td>\n",
       "    </tr>\n",
       "    <tr>\n",
       "      <th>6</th>\n",
       "      <td>57.5</td>\n",
       "      <td>32.8</td>\n",
       "      <td>23.5</td>\n",
       "      <td>11.8</td>\n",
       "    </tr>\n",
       "    <tr>\n",
       "      <th>7</th>\n",
       "      <td>120.2</td>\n",
       "      <td>19.6</td>\n",
       "      <td>11.6</td>\n",
       "      <td>13.2</td>\n",
       "    </tr>\n",
       "    <tr>\n",
       "      <th>8</th>\n",
       "      <td>8.6</td>\n",
       "      <td>2.1</td>\n",
       "      <td>1.0</td>\n",
       "      <td>4.8</td>\n",
       "    </tr>\n",
       "    <tr>\n",
       "      <th>9</th>\n",
       "      <td>199.8</td>\n",
       "      <td>2.6</td>\n",
       "      <td>21.2</td>\n",
       "      <td>15.6</td>\n",
       "    </tr>\n",
       "  </tbody>\n",
       "</table>\n",
       "</div>"
      ],
      "text/plain": [
       "      TV  Radio  Newspaper  Sales\n",
       "0  230.1   37.8       69.2   22.1\n",
       "1   44.5   39.3       45.1   10.4\n",
       "2   17.2   45.9       69.3   12.0\n",
       "3  151.5   41.3       58.5   16.5\n",
       "4  180.8   10.8       58.4   17.9\n",
       "5    8.7   48.9       75.0    7.2\n",
       "6   57.5   32.8       23.5   11.8\n",
       "7  120.2   19.6       11.6   13.2\n",
       "8    8.6    2.1        1.0    4.8\n",
       "9  199.8    2.6       21.2   15.6"
      ]
     },
     "execution_count": 3,
     "metadata": {},
     "output_type": "execute_result"
    }
   ],
   "source": [
    "df.head(10)"
   ]
  },
  {
   "cell_type": "code",
   "execution_count": 4,
   "metadata": {},
   "outputs": [
    {
     "data": {
      "text/plain": [
       "TV           0\n",
       "Radio        0\n",
       "Newspaper    0\n",
       "Sales        0\n",
       "dtype: int64"
      ]
     },
     "execution_count": 4,
     "metadata": {},
     "output_type": "execute_result"
    }
   ],
   "source": [
    "df.isnull().sum()"
   ]
  },
  {
   "cell_type": "code",
   "execution_count": 23,
   "metadata": {},
   "outputs": [],
   "source": [
    "# Select the feature and target\n",
    "# x = df['Newspaper'].values.reshape(-1, 1)\n",
    "x = df[['Newspaper']].values\n",
    "y = df[['Sales']].values  # Target\n"
   ]
  },
  {
   "cell_type": "code",
   "execution_count": 24,
   "metadata": {},
   "outputs": [],
   "source": [
    "from sklearn.model_selection import train_test_split\n",
    "\n",
    "# Split the data into training and testing sets\n",
    "x_train, x_test, y_train, y_test = train_test_split(x, y, test_size=0.2, random_state=42)\n"
   ]
  },
  {
   "cell_type": "code",
   "execution_count": 25,
   "metadata": {},
   "outputs": [
    {
     "data": {
      "text/html": [
       "<style>#sk-container-id-2 {color: black;}#sk-container-id-2 pre{padding: 0;}#sk-container-id-2 div.sk-toggleable {background-color: white;}#sk-container-id-2 label.sk-toggleable__label {cursor: pointer;display: block;width: 100%;margin-bottom: 0;padding: 0.3em;box-sizing: border-box;text-align: center;}#sk-container-id-2 label.sk-toggleable__label-arrow:before {content: \"▸\";float: left;margin-right: 0.25em;color: #696969;}#sk-container-id-2 label.sk-toggleable__label-arrow:hover:before {color: black;}#sk-container-id-2 div.sk-estimator:hover label.sk-toggleable__label-arrow:before {color: black;}#sk-container-id-2 div.sk-toggleable__content {max-height: 0;max-width: 0;overflow: hidden;text-align: left;background-color: #f0f8ff;}#sk-container-id-2 div.sk-toggleable__content pre {margin: 0.2em;color: black;border-radius: 0.25em;background-color: #f0f8ff;}#sk-container-id-2 input.sk-toggleable__control:checked~div.sk-toggleable__content {max-height: 200px;max-width: 100%;overflow: auto;}#sk-container-id-2 input.sk-toggleable__control:checked~label.sk-toggleable__label-arrow:before {content: \"▾\";}#sk-container-id-2 div.sk-estimator input.sk-toggleable__control:checked~label.sk-toggleable__label {background-color: #d4ebff;}#sk-container-id-2 div.sk-label input.sk-toggleable__control:checked~label.sk-toggleable__label {background-color: #d4ebff;}#sk-container-id-2 input.sk-hidden--visually {border: 0;clip: rect(1px 1px 1px 1px);clip: rect(1px, 1px, 1px, 1px);height: 1px;margin: -1px;overflow: hidden;padding: 0;position: absolute;width: 1px;}#sk-container-id-2 div.sk-estimator {font-family: monospace;background-color: #f0f8ff;border: 1px dotted black;border-radius: 0.25em;box-sizing: border-box;margin-bottom: 0.5em;}#sk-container-id-2 div.sk-estimator:hover {background-color: #d4ebff;}#sk-container-id-2 div.sk-parallel-item::after {content: \"\";width: 100%;border-bottom: 1px solid gray;flex-grow: 1;}#sk-container-id-2 div.sk-label:hover label.sk-toggleable__label {background-color: #d4ebff;}#sk-container-id-2 div.sk-serial::before {content: \"\";position: absolute;border-left: 1px solid gray;box-sizing: border-box;top: 0;bottom: 0;left: 50%;z-index: 0;}#sk-container-id-2 div.sk-serial {display: flex;flex-direction: column;align-items: center;background-color: white;padding-right: 0.2em;padding-left: 0.2em;position: relative;}#sk-container-id-2 div.sk-item {position: relative;z-index: 1;}#sk-container-id-2 div.sk-parallel {display: flex;align-items: stretch;justify-content: center;background-color: white;position: relative;}#sk-container-id-2 div.sk-item::before, #sk-container-id-2 div.sk-parallel-item::before {content: \"\";position: absolute;border-left: 1px solid gray;box-sizing: border-box;top: 0;bottom: 0;left: 50%;z-index: -1;}#sk-container-id-2 div.sk-parallel-item {display: flex;flex-direction: column;z-index: 1;position: relative;background-color: white;}#sk-container-id-2 div.sk-parallel-item:first-child::after {align-self: flex-end;width: 50%;}#sk-container-id-2 div.sk-parallel-item:last-child::after {align-self: flex-start;width: 50%;}#sk-container-id-2 div.sk-parallel-item:only-child::after {width: 0;}#sk-container-id-2 div.sk-dashed-wrapped {border: 1px dashed gray;margin: 0 0.4em 0.5em 0.4em;box-sizing: border-box;padding-bottom: 0.4em;background-color: white;}#sk-container-id-2 div.sk-label label {font-family: monospace;font-weight: bold;display: inline-block;line-height: 1.2em;}#sk-container-id-2 div.sk-label-container {text-align: center;}#sk-container-id-2 div.sk-container {/* jupyter's `normalize.less` sets `[hidden] { display: none; }` but bootstrap.min.css set `[hidden] { display: none !important; }` so we also need the `!important` here to be able to override the default hidden behavior on the sphinx rendered scikit-learn.org. See: https://github.com/scikit-learn/scikit-learn/issues/21755 */display: inline-block !important;position: relative;}#sk-container-id-2 div.sk-text-repr-fallback {display: none;}</style><div id=\"sk-container-id-2\" class=\"sk-top-container\"><div class=\"sk-text-repr-fallback\"><pre>LinearRegression()</pre><b>In a Jupyter environment, please rerun this cell to show the HTML representation or trust the notebook. <br />On GitHub, the HTML representation is unable to render, please try loading this page with nbviewer.org.</b></div><div class=\"sk-container\" hidden><div class=\"sk-item\"><div class=\"sk-estimator sk-toggleable\"><input class=\"sk-toggleable__control sk-hidden--visually\" id=\"sk-estimator-id-2\" type=\"checkbox\" checked><label for=\"sk-estimator-id-2\" class=\"sk-toggleable__label sk-toggleable__label-arrow\">LinearRegression</label><div class=\"sk-toggleable__content\"><pre>LinearRegression()</pre></div></div></div></div></div>"
      ],
      "text/plain": [
       "LinearRegression()"
      ]
     },
     "execution_count": 25,
     "metadata": {},
     "output_type": "execute_result"
    }
   ],
   "source": [
    "from sklearn.linear_model import LinearRegression\n",
    "\n",
    "# Create a linear regression model\n",
    "model = LinearRegression()\n",
    "\n",
    "# Fit the model to the training data\n",
    "model.fit(x_train, y_train)\n"
   ]
  },
  {
   "cell_type": "code",
   "execution_count": 26,
   "metadata": {},
   "outputs": [],
   "source": [
    "y_pred = model.predict(x_test)"
   ]
  },
  {
   "cell_type": "code",
   "execution_count": 27,
   "metadata": {},
   "outputs": [
    {
     "data": {
      "text/plain": [
       "array([[77.41387017]])"
      ]
     },
     "execution_count": 27,
     "metadata": {},
     "output_type": "execute_result"
    }
   ],
   "source": [
    "model.predict([[1700]])"
   ]
  },
  {
   "cell_type": "code",
   "execution_count": 28,
   "metadata": {},
   "outputs": [
    {
     "name": "stdout",
     "output_type": "stream",
     "text": [
      "[[16.18393979]\n",
      " [16.18393979]\n",
      " [15.82334825]\n",
      " [15.89769702]\n",
      " [14.33637283]\n",
      " [16.17650491]\n",
      " [15.22855808]\n",
      " [14.90142349]\n",
      " [14.70439924]\n",
      " [15.38840794]\n",
      " [14.29919844]\n",
      " [15.32149404]\n",
      " [17.36980268]\n",
      " [14.56685402]\n",
      " [15.20625345]\n",
      " [15.52595316]\n",
      " [15.75643435]\n",
      " [14.74529107]\n",
      " [15.42558232]\n",
      " [14.62633303]\n",
      " [16.9757542 ]\n",
      " [18.45529474]\n",
      " [14.65978998]\n",
      " [16.90512286]\n",
      " [14.25087174]\n",
      " [15.01294664]\n",
      " [15.47390902]\n",
      " [14.59659352]\n",
      " [15.18023138]\n",
      " [14.295481  ]\n",
      " [15.00551176]\n",
      " [14.89770605]\n",
      " [16.44787792]\n",
      " [17.54080486]\n",
      " [15.59286706]\n",
      " [14.41443903]\n",
      " [14.53339707]\n",
      " [16.43672561]\n",
      " [14.41815647]\n",
      " [14.98692457]]\n"
     ]
    }
   ],
   "source": [
    "print(y_pred)"
   ]
  },
  {
   "cell_type": "code",
   "execution_count": 29,
   "metadata": {},
   "outputs": [
    {
     "name": "stdout",
     "output_type": "stream",
     "text": [
      "(160, 1)\n",
      "(40, 1)\n"
     ]
    }
   ],
   "source": [
    "print(x_train.shape)\n",
    "print(x_test.shape)"
   ]
  },
  {
   "cell_type": "code",
   "execution_count": 30,
   "metadata": {},
   "outputs": [
    {
     "name": "stdout",
     "output_type": "stream",
     "text": [
      "[[ 23.1]\n",
      " [  6.4]\n",
      " [ 35.1]\n",
      " [ 18.3]\n",
      " [ 15.6]\n",
      " [ 13.8]\n",
      " [ 40.8]\n",
      " [ 19.1]\n",
      " [ 34.4]\n",
      " [ 16. ]\n",
      " [ 34.5]\n",
      " [ 12.8]\n",
      " [ 75. ]\n",
      " [ 50.6]\n",
      " [ 14.8]\n",
      " [ 31.3]\n",
      " [ 12.9]\n",
      " [ 51.2]\n",
      " [ 17. ]\n",
      " [  5.9]\n",
      " [  6.4]\n",
      " [ 22. ]\n",
      " [ 38.6]\n",
      " [ 65.9]\n",
      " [  8.5]\n",
      " [ 22.3]\n",
      " [  1.8]\n",
      " [ 23.4]\n",
      " [  9.3]\n",
      " [  9.3]\n",
      " [  3.6]\n",
      " [  9.2]\n",
      " [ 25.6]\n",
      " [ 38.7]\n",
      " [ 79.2]\n",
      " [ 10.7]\n",
      " [ 12.6]\n",
      " [  1.7]\n",
      " [ 49.8]\n",
      " [ 23.2]\n",
      " [ 69.3]\n",
      " [ 14.2]\n",
      " [ 35.7]\n",
      " [ 18.2]\n",
      " [  6. ]\n",
      " [ 65.7]\n",
      " [ 49.3]\n",
      " [  5. ]\n",
      " [  5.8]\n",
      " [ 54.7]\n",
      " [ 49.6]\n",
      " [ 75.6]\n",
      " [100.9]\n",
      " [  0.3]\n",
      " [  4. ]\n",
      " [  6. ]\n",
      " [ 34.6]\n",
      " [ 23.5]\n",
      " [ 22.9]\n",
      " [ 46.2]\n",
      " [ 58.4]\n",
      " [ 30. ]\n",
      " [ 37.9]\n",
      " [  9. ]\n",
      " [  5.5]\n",
      " [ 38.9]\n",
      " [ 24.2]\n",
      " [ 27.3]\n",
      " [  2.4]\n",
      " [  8.7]\n",
      " [ 21.6]\n",
      " [ 69.2]\n",
      " [ 66.2]\n",
      " [ 37.7]\n",
      " [ 38.7]\n",
      " [ 12.4]\n",
      " [ 28.9]\n",
      " [ 43.3]\n",
      " [  7.4]\n",
      " [ 22.9]\n",
      " [ 31.6]\n",
      " [ 25.6]\n",
      " [  5.7]\n",
      " [ 50.5]\n",
      " [ 19.5]\n",
      " [ 26.2]\n",
      " [ 30. ]\n",
      " [ 44.3]\n",
      " [ 36.9]\n",
      " [ 32. ]\n",
      " [ 57.6]\n",
      " [ 18.5]\n",
      " [ 10.9]\n",
      " [  9.5]\n",
      " [ 26.4]\n",
      " [ 20.5]\n",
      " [ 58.5]\n",
      " [ 59. ]\n",
      " [ 58.7]\n",
      " [ 45.1]\n",
      " [  8.3]\n",
      " [ 23.7]\n",
      " [ 19.6]\n",
      " [ 36.8]\n",
      " [ 22.3]\n",
      " [  7.4]\n",
      " [ 11.6]\n",
      " [ 56.5]\n",
      " [ 33. ]\n",
      " [ 35.6]\n",
      " [ 20.3]\n",
      " [ 27.4]\n",
      " [ 51.4]\n",
      " [  1. ]\n",
      " [  7.2]\n",
      " [  9.3]\n",
      " [ 47.4]\n",
      " [ 43. ]\n",
      " [ 55.8]\n",
      " [ 19.3]\n",
      " [ 41.8]\n",
      " [ 65.6]\n",
      " [ 19.4]\n",
      " [ 71.8]\n",
      " [  8.4]\n",
      " [ 15.9]\n",
      " [ 23.2]\n",
      " [ 34.6]\n",
      " [  8.1]\n",
      " [ 37.7]\n",
      " [ 49.9]\n",
      " [ 73.4]\n",
      " [ 23.5]\n",
      " [ 16.6]\n",
      " [ 30.7]\n",
      " [ 31.6]\n",
      " [ 43.1]\n",
      " [ 45.7]\n",
      " [ 24.3]\n",
      " [  3.6]\n",
      " [ 45.1]\n",
      " [ 39.6]\n",
      " [ 20.6]\n",
      " [  8.7]\n",
      " [ 48.7]\n",
      " [ 17.9]\n",
      " [ 45.9]\n",
      " [ 25.6]\n",
      " [ 63.2]\n",
      " [ 13.1]\n",
      " [ 50.4]\n",
      " [  8.7]\n",
      " [ 53.4]\n",
      " [  3.7]\n",
      " [ 31.7]\n",
      " [ 29.7]\n",
      " [ 46. ]\n",
      " [ 59. ]\n",
      " [ 17.6]\n",
      " [ 21.4]]\n"
     ]
    }
   ],
   "source": [
    "print(x_train)"
   ]
  },
  {
   "cell_type": "code",
   "execution_count": 31,
   "metadata": {},
   "outputs": [
    {
     "name": "stdout",
     "output_type": "stream",
     "text": [
      "[[ 52.9]\n",
      " [ 52.9]\n",
      " [ 43.2]\n",
      " [ 45.2]\n",
      " [  3.2]\n",
      " [ 52.7]\n",
      " [ 27.2]\n",
      " [ 18.4]\n",
      " [ 13.1]\n",
      " [ 31.5]\n",
      " [  2.2]\n",
      " [ 29.7]\n",
      " [ 84.8]\n",
      " [  9.4]\n",
      " [ 26.6]\n",
      " [ 35.2]\n",
      " [ 41.4]\n",
      " [ 14.2]\n",
      " [ 32.5]\n",
      " [ 11. ]\n",
      " [ 74.2]\n",
      " [114. ]\n",
      " [ 11.9]\n",
      " [ 72.3]\n",
      " [  0.9]\n",
      " [ 21.4]\n",
      " [ 33.8]\n",
      " [ 10.2]\n",
      " [ 25.9]\n",
      " [  2.1]\n",
      " [ 21.2]\n",
      " [ 18.3]\n",
      " [ 60. ]\n",
      " [ 89.4]\n",
      " [ 37. ]\n",
      " [  5.3]\n",
      " [  8.5]\n",
      " [ 59.7]\n",
      " [  5.4]\n",
      " [ 20.7]]\n"
     ]
    }
   ],
   "source": [
    "print(x_test)"
   ]
  },
  {
   "cell_type": "code",
   "execution_count": 32,
   "metadata": {},
   "outputs": [],
   "source": [
    "scaler = StandardScaler()\n",
    "X_train_scaled = scaler.fit_transform(x_train)\n",
    "X_test_scaled = scaler.transform(x_test)"
   ]
  },
  {
   "cell_type": "markdown",
   "metadata": {},
   "source": [
    "<h4> FORMULAS IMPORTANT TO LEARN</h4>"
   ]
  },
  {
   "cell_type": "code",
   "execution_count": 33,
   "metadata": {},
   "outputs": [
    {
     "name": "stdout",
     "output_type": "stream",
     "text": [
      "ANSWER\n",
      "**************************************************************\n",
      "Coefficients: [0.03717439]\n",
      "Intercept: [14.21741479]\n",
      "Residual Sum of Squares: 1230.3750769107846\n",
      "Coefficient of Determination (R^2): 0.004586344085821592\n",
      "**************************************************************\n"
     ]
    }
   ],
   "source": [
    "# Coefficients\n",
    "coefficients = model.coef_[0]\n",
    "intercept = model.intercept_\n",
    "\n",
    "# Residual sum of squares\n",
    "rss = ((y_test - model.predict(x_test)) ** 2).sum()\n",
    "\n",
    "# Coefficient of determination (R^2)\n",
    "r2 = model.score(x_test, y_test)\n",
    "print(\"ANSWER\")\n",
    "\n",
    "print('**************************************************************')\n",
    "print(f'Coefficients: {coefficients}')\n",
    "print(f'Intercept: {intercept}')\n",
    "print(f'Residual Sum of Squares: {rss}')\n",
    "print(f'Coefficient of Determination (R^2): {r2}')\n",
    "print('**************************************************************')\n",
    "\n"
   ]
  },
  {
   "cell_type": "code",
   "execution_count": 36,
   "metadata": {},
   "outputs": [
    {
     "data": {
      "image/png": "[encoded data removed]",
      "text/plain": [
       "<Figure size 640x480 with 1 Axes>"
      ]
     },
     "metadata": {},
     "output_type": "display_data"
    }
   ],
   "source": [
    "plt.scatter(x_test, y_test, color='blue', label='Actual Data')\n",
    "\n",
    "# Plot the regression line\n",
    "plt.plot(x_test, y_pred, color='red', linewidth=3, label='Regression Line')\n",
    "\n",
    "# Add labels and a legend\n",
    "plt.xlabel('NewsPaper')\n",
    "plt.ylabel('SALES')\n",
    "plt.title('Simple Linear Regression Visualization')\n",
    "plt.legend()\n",
    "\n",
    "# Display the plot\n",
    "plt.show()"
   ]
  },
  {
   "cell_type": "code",
   "execution_count": null,
   "metadata": {},
   "outputs": [],
   "source": []
  },
  {
   "cell_type": "code",
   "execution_count": null,
   "metadata": {},
   "outputs": [],
   "source": []
  }
 ],
 "metadata": {
  "kernelspec": {
   "display_name": "Python 3",
   "language": "python",
   "name": "python3"
  },
  "language_info": {
   "codemirror_mode": {
    "name": "ipython",
    "version": 3
   },
   "file_extension": ".py",
   "mimetype": "text/x-python",
   "name": "python",
   "nbconvert_exporter": "python",
   "pygments_lexer": "ipython3",
   "version": "3.11.4"
  }
 },
 "nbformat": 4,
 "nbformat_minor": 2
}
