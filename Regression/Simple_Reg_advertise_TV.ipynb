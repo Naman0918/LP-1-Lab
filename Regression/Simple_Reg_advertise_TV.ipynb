{
 "cells": [
  {
   "cell_type": "markdown",
   "metadata": {},
   "source": [
    "Regression: Simple Linear\n",
    "Dataset: advertising.csv\n",
    "Apply Data pre-processing (Label Encoding , Data Transformation….)\n",
    "techniques if necessary.\n",
    "Explore whether TV advertising spending can predict the number of sales for\n",
    "the product. Also display the regression results and plot the\n",
    "regression line."
   ]
  },
  {
   "cell_type": "code",
   "execution_count": 1,
   "metadata": {},
   "outputs": [],
   "source": [
    "import pandas as pd\n",
    "import numpy as np\n",
    "import matplotlib.pyplot as plt\n",
    "import seaborn as sns\n",
    "from sklearn.model_selection import train_test_split\n",
    "from sklearn.linear_model import LinearRegression\n",
    "from sklearn import metrics\n",
    "from sklearn.preprocessing import LabelEncoder\n",
    "from sklearn.preprocessing import StandardScaler"
   ]
  },
  {
   "cell_type": "code",
   "execution_count": 2,
   "metadata": {},
   "outputs": [],
   "source": [
    "df = pd.read_csv(\"/Users/namanlabhsetwar/Desktop/Sem 5 Practical/ML- Lab Assignments/LP-1 Dataset/Regression/advertising.csv\")"
   ]
  },
  {
   "cell_type": "code",
   "execution_count": 3,
   "metadata": {},
   "outputs": [
    {
     "data": {
      "text/html": [
       "<div>\n",
       "<style scoped>\n",
       "    .dataframe tbody tr th:only-of-type {\n",
       "        vertical-align: middle;\n",
       "    }\n",
       "\n",
       "    .dataframe tbody tr th {\n",
       "        vertical-align: top;\n",
       "    }\n",
       "\n",
       "    .dataframe thead th {\n",
       "        text-align: right;\n",
       "    }\n",
       "</style>\n",
       "<table border=\"1\" class=\"dataframe\">\n",
       "  <thead>\n",
       "    <tr style=\"text-align: right;\">\n",
       "      <th></th>\n",
       "      <th>TV</th>\n",
       "      <th>Radio</th>\n",
       "      <th>Newspaper</th>\n",
       "      <th>Sales</th>\n",
       "    </tr>\n",
       "  </thead>\n",
       "  <tbody>\n",
       "    <tr>\n",
       "      <th>0</th>\n",
       "      <td>230.1</td>\n",
       "      <td>37.8</td>\n",
       "      <td>69.2</td>\n",
       "      <td>22.1</td>\n",
       "    </tr>\n",
       "    <tr>\n",
       "      <th>1</th>\n",
       "      <td>44.5</td>\n",
       "      <td>39.3</td>\n",
       "      <td>45.1</td>\n",
       "      <td>10.4</td>\n",
       "    </tr>\n",
       "    <tr>\n",
       "      <th>2</th>\n",
       "      <td>17.2</td>\n",
       "      <td>45.9</td>\n",
       "      <td>69.3</td>\n",
       "      <td>12.0</td>\n",
       "    </tr>\n",
       "    <tr>\n",
       "      <th>3</th>\n",
       "      <td>151.5</td>\n",
       "      <td>41.3</td>\n",
       "      <td>58.5</td>\n",
       "      <td>16.5</td>\n",
       "    </tr>\n",
       "    <tr>\n",
       "      <th>4</th>\n",
       "      <td>180.8</td>\n",
       "      <td>10.8</td>\n",
       "      <td>58.4</td>\n",
       "      <td>17.9</td>\n",
       "    </tr>\n",
       "    <tr>\n",
       "      <th>5</th>\n",
       "      <td>8.7</td>\n",
       "      <td>48.9</td>\n",
       "      <td>75.0</td>\n",
       "      <td>7.2</td>\n",
       "    </tr>\n",
       "    <tr>\n",
       "      <th>6</th>\n",
       "      <td>57.5</td>\n",
       "      <td>32.8</td>\n",
       "      <td>23.5</td>\n",
       "      <td>11.8</td>\n",
       "    </tr>\n",
       "    <tr>\n",
       "      <th>7</th>\n",
       "      <td>120.2</td>\n",
       "      <td>19.6</td>\n",
       "      <td>11.6</td>\n",
       "      <td>13.2</td>\n",
       "    </tr>\n",
       "    <tr>\n",
       "      <th>8</th>\n",
       "      <td>8.6</td>\n",
       "      <td>2.1</td>\n",
       "      <td>1.0</td>\n",
       "      <td>4.8</td>\n",
       "    </tr>\n",
       "    <tr>\n",
       "      <th>9</th>\n",
       "      <td>199.8</td>\n",
       "      <td>2.6</td>\n",
       "      <td>21.2</td>\n",
       "      <td>15.6</td>\n",
       "    </tr>\n",
       "  </tbody>\n",
       "</table>\n",
       "</div>"
      ],
      "text/plain": [
       "      TV  Radio  Newspaper  Sales\n",
       "0  230.1   37.8       69.2   22.1\n",
       "1   44.5   39.3       45.1   10.4\n",
       "2   17.2   45.9       69.3   12.0\n",
       "3  151.5   41.3       58.5   16.5\n",
       "4  180.8   10.8       58.4   17.9\n",
       "5    8.7   48.9       75.0    7.2\n",
       "6   57.5   32.8       23.5   11.8\n",
       "7  120.2   19.6       11.6   13.2\n",
       "8    8.6    2.1        1.0    4.8\n",
       "9  199.8    2.6       21.2   15.6"
      ]
     },
     "execution_count": 3,
     "metadata": {},
     "output_type": "execute_result"
    }
   ],
   "source": [
    "df.head(10)"
   ]
  },
  {
   "cell_type": "code",
   "execution_count": 4,
   "metadata": {},
   "outputs": [
    {
     "data": {
      "text/plain": [
       "TV           0\n",
       "Radio        0\n",
       "Newspaper    0\n",
       "Sales        0\n",
       "dtype: int64"
      ]
     },
     "execution_count": 4,
     "metadata": {},
     "output_type": "execute_result"
    }
   ],
   "source": [
    "df.isnull().sum()"
   ]
  },
  {
   "cell_type": "code",
   "execution_count": 5,
   "metadata": {},
   "outputs": [],
   "source": [
    "# Select the feature and target\n",
    "x = df['TV'].values.reshape(-1, 1)\n",
    "y = df[['Sales']].values  # Target\n"
   ]
  },
  {
   "cell_type": "code",
   "execution_count": 6,
   "metadata": {},
   "outputs": [],
   "source": [
    "# x = df.iloc[:, -1].values\n",
    "# y = df.iloc[:,:7].values\n"
   ]
  },
  {
   "cell_type": "code",
   "execution_count": 7,
   "metadata": {},
   "outputs": [],
   "source": [
    "from sklearn.model_selection import train_test_split\n",
    "\n",
    "# Split the data into training and testing sets\n",
    "x_train, x_test, y_train, y_test = train_test_split(x, y, test_size=0.2, random_state=42)\n"
   ]
  },
  {
   "cell_type": "code",
   "execution_count": 8,
   "metadata": {},
   "outputs": [
    {
     "data": {
      "text/html": [
       "<style>#sk-container-id-1 {color: black;}#sk-container-id-1 pre{padding: 0;}#sk-container-id-1 div.sk-toggleable {background-color: white;}#sk-container-id-1 label.sk-toggleable__label {cursor: pointer;display: block;width: 100%;margin-bottom: 0;padding: 0.3em;box-sizing: border-box;text-align: center;}#sk-container-id-1 label.sk-toggleable__label-arrow:before {content: \"▸\";float: left;margin-right: 0.25em;color: #696969;}#sk-container-id-1 label.sk-toggleable__label-arrow:hover:before {color: black;}#sk-container-id-1 div.sk-estimator:hover label.sk-toggleable__label-arrow:before {color: black;}#sk-container-id-1 div.sk-toggleable__content {max-height: 0;max-width: 0;overflow: hidden;text-align: left;background-color: #f0f8ff;}#sk-container-id-1 div.sk-toggleable__content pre {margin: 0.2em;color: black;border-radius: 0.25em;background-color: #f0f8ff;}#sk-container-id-1 input.sk-toggleable__control:checked~div.sk-toggleable__content {max-height: 200px;max-width: 100%;overflow: auto;}#sk-container-id-1 input.sk-toggleable__control:checked~label.sk-toggleable__label-arrow:before {content: \"▾\";}#sk-container-id-1 div.sk-estimator input.sk-toggleable__control:checked~label.sk-toggleable__label {background-color: #d4ebff;}#sk-container-id-1 div.sk-label input.sk-toggleable__control:checked~label.sk-toggleable__label {background-color: #d4ebff;}#sk-container-id-1 input.sk-hidden--visually {border: 0;clip: rect(1px 1px 1px 1px);clip: rect(1px, 1px, 1px, 1px);height: 1px;margin: -1px;overflow: hidden;padding: 0;position: absolute;width: 1px;}#sk-container-id-1 div.sk-estimator {font-family: monospace;background-color: #f0f8ff;border: 1px dotted black;border-radius: 0.25em;box-sizing: border-box;margin-bottom: 0.5em;}#sk-container-id-1 div.sk-estimator:hover {background-color: #d4ebff;}#sk-container-id-1 div.sk-parallel-item::after {content: \"\";width: 100%;border-bottom: 1px solid gray;flex-grow: 1;}#sk-container-id-1 div.sk-label:hover label.sk-toggleable__label {background-color: #d4ebff;}#sk-container-id-1 div.sk-serial::before {content: \"\";position: absolute;border-left: 1px solid gray;box-sizing: border-box;top: 0;bottom: 0;left: 50%;z-index: 0;}#sk-container-id-1 div.sk-serial {display: flex;flex-direction: column;align-items: center;background-color: white;padding-right: 0.2em;padding-left: 0.2em;position: relative;}#sk-container-id-1 div.sk-item {position: relative;z-index: 1;}#sk-container-id-1 div.sk-parallel {display: flex;align-items: stretch;justify-content: center;background-color: white;position: relative;}#sk-container-id-1 div.sk-item::before, #sk-container-id-1 div.sk-parallel-item::before {content: \"\";position: absolute;border-left: 1px solid gray;box-sizing: border-box;top: 0;bottom: 0;left: 50%;z-index: -1;}#sk-container-id-1 div.sk-parallel-item {display: flex;flex-direction: column;z-index: 1;position: relative;background-color: white;}#sk-container-id-1 div.sk-parallel-item:first-child::after {align-self: flex-end;width: 50%;}#sk-container-id-1 div.sk-parallel-item:last-child::after {align-self: flex-start;width: 50%;}#sk-container-id-1 div.sk-parallel-item:only-child::after {width: 0;}#sk-container-id-1 div.sk-dashed-wrapped {border: 1px dashed gray;margin: 0 0.4em 0.5em 0.4em;box-sizing: border-box;padding-bottom: 0.4em;background-color: white;}#sk-container-id-1 div.sk-label label {font-family: monospace;font-weight: bold;display: inline-block;line-height: 1.2em;}#sk-container-id-1 div.sk-label-container {text-align: center;}#sk-container-id-1 div.sk-container {/* jupyter's `normalize.less` sets `[hidden] { display: none; }` but bootstrap.min.css set `[hidden] { display: none !important; }` so we also need the `!important` here to be able to override the default hidden behavior on the sphinx rendered scikit-learn.org. See: https://github.com/scikit-learn/scikit-learn/issues/21755 */display: inline-block !important;position: relative;}#sk-container-id-1 div.sk-text-repr-fallback {display: none;}</style><div id=\"sk-container-id-1\" class=\"sk-top-container\"><div class=\"sk-text-repr-fallback\"><pre>LinearRegression()</pre><b>In a Jupyter environment, please rerun this cell to show the HTML representation or trust the notebook. <br />On GitHub, the HTML representation is unable to render, please try loading this page with nbviewer.org.</b></div><div class=\"sk-container\" hidden><div class=\"sk-item\"><div class=\"sk-estimator sk-toggleable\"><input class=\"sk-toggleable__control sk-hidden--visually\" id=\"sk-estimator-id-1\" type=\"checkbox\" checked><label for=\"sk-estimator-id-1\" class=\"sk-toggleable__label sk-toggleable__label-arrow\">LinearRegression</label><div class=\"sk-toggleable__content\"><pre>LinearRegression()</pre></div></div></div></div></div>"
      ],
      "text/plain": [
       "LinearRegression()"
      ]
     },
     "execution_count": 8,
     "metadata": {},
     "output_type": "execute_result"
    }
   ],
   "source": [
    "from sklearn.linear_model import LinearRegression\n",
    "\n",
    "# Create a linear regression model\n",
    "model = LinearRegression()\n",
    "\n",
    "# Fit the model to the training data\n",
    "model.fit(x_train, y_train)\n"
   ]
  },
  {
   "cell_type": "code",
   "execution_count": 9,
   "metadata": {},
   "outputs": [],
   "source": [
    "y_pred = model.predict(x_test)"
   ]
  },
  {
   "cell_type": "code",
   "execution_count": 10,
   "metadata": {},
   "outputs": [
    {
     "data": {
      "text/plain": [
       "array([[101.32811311]])"
      ]
     },
     "execution_count": 10,
     "metadata": {},
     "output_type": "execute_result"
    }
   ],
   "source": [
    "model.predict([[1700]])"
   ]
  },
  {
   "cell_type": "code",
   "execution_count": 11,
   "metadata": {},
   "outputs": [
    {
     "name": "stdout",
     "output_type": "stream",
     "text": [
      "[[16.06747317]\n",
      " [17.84847567]\n",
      " [23.25806271]\n",
      " [ 7.65625887]\n",
      " [19.23000098]\n",
      " [11.17387752]\n",
      " [19.03581067]\n",
      " [ 9.78125562]\n",
      " [19.34651516]\n",
      " [16.72217191]\n",
      " [ 8.75482116]\n",
      " [10.12524988]\n",
      " [20.01785878]\n",
      " [ 7.30671633]\n",
      " [14.74697911]\n",
      " [16.45030549]\n",
      " [ 7.41213392]\n",
      " [17.97053815]\n",
      " [11.18497411]\n",
      " [20.17875932]\n",
      " [19.74044406]\n",
      " [10.76885203]\n",
      " [ 9.1154603 ]\n",
      " [20.92777906]\n",
      " [10.83543156]\n",
      " [ 9.97544593]\n",
      " [18.85271696]\n",
      " [14.73588252]\n",
      " [11.84522114]\n",
      " [ 7.47316516]\n",
      " [18.09260063]\n",
      " [10.84652815]\n",
      " [18.04266598]\n",
      " [ 7.94477018]\n",
      " [22.58117079]\n",
      " [20.22314567]\n",
      " [ 9.68693462]\n",
      " [22.19279018]\n",
      " [13.50970946]\n",
      " [ 8.53288939]]\n"
     ]
    }
   ],
   "source": [
    "print(y_pred)"
   ]
  },
  {
   "cell_type": "code",
   "execution_count": 12,
   "metadata": {},
   "outputs": [
    {
     "name": "stdout",
     "output_type": "stream",
     "text": [
      "(160, 1)\n",
      "(40, 1)\n"
     ]
    }
   ],
   "source": [
    "print(x_train.shape)\n",
    "print(x_test.shape)"
   ]
  },
  {
   "cell_type": "code",
   "execution_count": 13,
   "metadata": {},
   "outputs": [
    {
     "name": "stdout",
     "output_type": "stream",
     "text": [
      "[[116. ]\n",
      " [177. ]\n",
      " [ 43.1]\n",
      " [ 62.3]\n",
      " [224. ]\n",
      " [ 38.2]\n",
      " [ 70.6]\n",
      " [147.3]\n",
      " [104.6]\n",
      " [ 76.3]\n",
      " [ 78.2]\n",
      " [168.4]\n",
      " [  8.7]\n",
      " [  7.8]\n",
      " [ 76.4]\n",
      " [129.4]\n",
      " [ 73.4]\n",
      " [289.7]\n",
      " [ 19.6]\n",
      " [197.6]\n",
      " [284.3]\n",
      " [184.9]\n",
      " [112.9]\n",
      " [ 23.8]\n",
      " [290.7]\n",
      " [ 19.4]\n",
      " [293.6]\n",
      " [ 18.7]\n",
      " [134.3]\n",
      " [ 25.6]\n",
      " [100.4]\n",
      " [ 80.2]\n",
      " [188.4]\n",
      " [177. ]\n",
      " [125.7]\n",
      " [209.6]\n",
      " [142.9]\n",
      " [184.9]\n",
      " [222.4]\n",
      " [241.7]\n",
      " [ 17.2]\n",
      " [120.5]\n",
      " [ 89.7]\n",
      " [191.1]\n",
      " [ 75.5]\n",
      " [193.2]\n",
      " [ 85.7]\n",
      " [266.9]\n",
      " [ 39.5]\n",
      " [261.3]\n",
      " [ 13.2]\n",
      " [193.7]\n",
      " [296.4]\n",
      " [265.6]\n",
      " [214.7]\n",
      " [149.7]\n",
      " [131.7]\n",
      " [ 57.5]\n",
      " [240.1]\n",
      " [141.3]\n",
      " [180.8]\n",
      " [ 97.2]\n",
      " [220.5]\n",
      " [140.3]\n",
      " [255.4]\n",
      " [ 96.2]\n",
      " [ 66.1]\n",
      " [239.3]\n",
      " [175.7]\n",
      " [240.1]\n",
      " [ 17.9]\n",
      " [230.1]\n",
      " [283.6]\n",
      " [171.3]\n",
      " [199.1]\n",
      " [123.1]\n",
      " [131.1]\n",
      " [ 25.1]\n",
      " [163.5]\n",
      " [248.8]\n",
      " [202.5]\n",
      " [ 13.1]\n",
      " [  4.1]\n",
      " [ 93.9]\n",
      " [262.9]\n",
      " [228.3]\n",
      " [253.8]\n",
      " [243.2]\n",
      " [239.8]\n",
      " [228. ]\n",
      " [215.4]\n",
      " [239.9]\n",
      " [107.4]\n",
      " [187.8]\n",
      " [206.9]\n",
      " [ 43. ]\n",
      " [151.5]\n",
      " [137.9]\n",
      " [182.6]\n",
      " [219.8]\n",
      " [156.6]\n",
      " [276.7]\n",
      " [205. ]\n",
      " [ 66.9]\n",
      " [ 76.4]\n",
      " [ 95.7]\n",
      " [120.2]\n",
      " [225.8]\n",
      " [ 28.6]\n",
      " [ 68.4]\n",
      " [248.4]\n",
      " [218.5]\n",
      " [109.8]\n",
      " [  8.6]\n",
      " [ 97.5]\n",
      " [210.7]\n",
      " [164.5]\n",
      " [265.2]\n",
      " [281.4]\n",
      " [ 26.8]\n",
      " [276.9]\n",
      " [ 36.9]\n",
      " [206.8]\n",
      " [287.6]\n",
      " [102.7]\n",
      " [262.7]\n",
      " [ 90.4]\n",
      " [199.8]\n",
      " [ 94.2]\n",
      " [210.8]\n",
      " [227.2]\n",
      " [ 88.3]\n",
      " [237.4]\n",
      " [136.2]\n",
      " [172.5]\n",
      " [ 17.2]\n",
      " [ 59.6]\n",
      " [ 74.7]\n",
      " [149.8]\n",
      " [166.8]\n",
      " [ 44.5]\n",
      " [216.4]\n",
      " [ 44.7]\n",
      " [  0.7]\n",
      " [121. ]\n",
      " [187.9]\n",
      " [135.2]\n",
      " [139.2]\n",
      " [110.7]\n",
      " [213.4]\n",
      " [ 18.8]\n",
      " [232.1]\n",
      " [218.4]\n",
      " [286. ]\n",
      " [109.8]\n",
      " [ 25. ]\n",
      " [204.1]\n",
      " [217.7]\n",
      " [165.6]\n",
      " [280.2]]\n"
     ]
    }
   ],
   "source": [
    "print(x_train)"
   ]
  },
  {
   "cell_type": "code",
   "execution_count": 14,
   "metadata": {},
   "outputs": [
    {
     "name": "stdout",
     "output_type": "stream",
     "text": [
      "[[163.3]\n",
      " [195.4]\n",
      " [292.9]\n",
      " [ 11.7]\n",
      " [220.3]\n",
      " [ 75.1]\n",
      " [216.8]\n",
      " [ 50. ]\n",
      " [222.4]\n",
      " [175.1]\n",
      " [ 31.5]\n",
      " [ 56.2]\n",
      " [234.5]\n",
      " [  5.4]\n",
      " [139.5]\n",
      " [170.2]\n",
      " [  7.3]\n",
      " [197.6]\n",
      " [ 75.3]\n",
      " [237.4]\n",
      " [229.5]\n",
      " [ 67.8]\n",
      " [ 38. ]\n",
      " [250.9]\n",
      " [ 69. ]\n",
      " [ 53.5]\n",
      " [213.5]\n",
      " [139.3]\n",
      " [ 87.2]\n",
      " [  8.4]\n",
      " [199.8]\n",
      " [ 69.2]\n",
      " [198.9]\n",
      " [ 16.9]\n",
      " [280.7]\n",
      " [238.2]\n",
      " [ 48.3]\n",
      " [273.7]\n",
      " [117.2]\n",
      " [ 27.5]]\n"
     ]
    }
   ],
   "source": [
    "print(x_test)"
   ]
  },
  {
   "cell_type": "code",
   "execution_count": 15,
   "metadata": {},
   "outputs": [],
   "source": [
    "scaler = StandardScaler()\n",
    "X_train_scaled = scaler.fit_transform(x_train)\n",
    "X_test_scaled = scaler.transform(x_test)"
   ]
  },
  {
   "cell_type": "markdown",
   "metadata": {},
   "source": [
    "<h4> FORMULAS IMPORTANT TO LEARN</h4>"
   ]
  },
  {
   "cell_type": "code",
   "execution_count": 16,
   "metadata": {},
   "outputs": [
    {
     "name": "stdout",
     "output_type": "stream",
     "text": [
      "ANSWER\n",
      "**************************************************************\n",
      "Coefficients: [0.05548294]\n",
      "Intercept: [7.00710843]\n",
      "Residual Sum of Squares: 244.04291627095853\n",
      "Coefficient of Determination (R^2): 0.802561303423698\n",
      "**************************************************************\n"
     ]
    }
   ],
   "source": [
    "# Coefficients\n",
    "coefficients = model.coef_[0]\n",
    "intercept = model.intercept_\n",
    "\n",
    "# Residual sum of squares\n",
    "rss = ((y_test - model.predict(x_test)) ** 2).sum()\n",
    "\n",
    "# Coefficient of determination (R^2)\n",
    "r2 = model.score(x_test, y_test)\n",
    "print(\"ANSWER\")\n",
    "\n",
    "print('**************************************************************')\n",
    "print(f'Coefficients: {coefficients}')\n",
    "print(f'Intercept: {intercept}')\n",
    "print(f'Residual Sum of Squares: {rss}')\n",
    "print(f'Coefficient of Determination (R^2): {r2}')\n",
    "print('**************************************************************')\n",
    "\n"
   ]
  },
  {
   "cell_type": "code",
   "execution_count": 18,
   "metadata": {},
   "outputs": [
    {
     "data": {
      "image/png": "[encoded data removed]",
      "text/plain": [
       "<Figure size 640x480 with 1 Axes>"
      ]
     },
     "metadata": {},
     "output_type": "display_data"
    }
   ],
   "source": [
    "plt.scatter(x_test, y_test, color='blue', label='Actual Data')\n",
    "\n",
    "# Plot the regression line\n",
    "plt.plot(x_test, y_pred, color='red', linewidth=3, label='Regression Line')\n",
    "\n",
    "# Add labels and a legend\n",
    "plt.xlabel('TV')\n",
    "plt.ylabel('SALES')\n",
    "plt.title('Simple Linear Regression Visualization')\n",
    "plt.legend()\n",
    "\n",
    "# Display the plot\n",
    "plt.show()"
   ]
  },
  {
   "cell_type": "code",
   "execution_count": null,
   "metadata": {},
   "outputs": [],
   "source": []
  },
  {
   "cell_type": "code",
   "execution_count": null,
   "metadata": {},
   "outputs": [],
   "source": []
  }
 ],
 "metadata": {
  "kernelspec": {
   "display_name": "Python 3",
   "language": "python",
   "name": "python3"
  },
  "language_info": {
   "codemirror_mode": {
    "name": "ipython",
    "version": 3
   },
   "file_extension": ".py",
   "mimetype": "text/x-python",
   "name": "python",
   "nbconvert_exporter": "python",
   "pygments_lexer": "ipython3",
   "version": "3.11.4"
  }
 },
 "nbformat": 4,
 "nbformat_minor": 2
}
