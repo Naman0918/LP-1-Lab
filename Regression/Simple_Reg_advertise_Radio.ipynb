{
 "cells": [
  {
   "cell_type": "markdown",
   "metadata": {},
   "source": [
    "Regression: Simple Linear\n",
    "Dataset: advertising.csv\n",
    "Apply Data pre-processing (Label Encoding , Data Transformation….)\n",
    "techniques if necessary.\n",
    "Explore whether TV advertising spending can predict the number of sales for\n",
    "the product. Also display the regression results and plot the\n",
    "regression line."
   ]
  },
  {
   "cell_type": "code",
   "execution_count": 2,
   "metadata": {},
   "outputs": [],
   "source": [
    "import pandas as pd\n",
    "import numpy as np\n",
    "import matplotlib.pyplot as plt\n",
    "import seaborn as sns\n",
    "from sklearn.model_selection import train_test_split\n",
    "from sklearn.linear_model import LinearRegression\n",
    "from sklearn import metrics\n",
    "from sklearn.preprocessing import LabelEncoder\n",
    "from sklearn.preprocessing import StandardScaler"
   ]
  },
  {
   "cell_type": "code",
   "execution_count": 3,
   "metadata": {},
   "outputs": [],
   "source": [
    "df = pd.read_csv(\"/Users/namanlabhsetwar/Desktop/Sem 5 Practical/ML- Lab Assignments/LP-1 Dataset/Regression/advertising.csv\")"
   ]
  },
  {
   "cell_type": "code",
   "execution_count": 4,
   "metadata": {},
   "outputs": [
    {
     "data": {
      "text/html": [
       "<div>\n",
       "<style scoped>\n",
       "    .dataframe tbody tr th:only-of-type {\n",
       "        vertical-align: middle;\n",
       "    }\n",
       "\n",
       "    .dataframe tbody tr th {\n",
       "        vertical-align: top;\n",
       "    }\n",
       "\n",
       "    .dataframe thead th {\n",
       "        text-align: right;\n",
       "    }\n",
       "</style>\n",
       "<table border=\"1\" class=\"dataframe\">\n",
       "  <thead>\n",
       "    <tr style=\"text-align: right;\">\n",
       "      <th></th>\n",
       "      <th>TV</th>\n",
       "      <th>Radio</th>\n",
       "      <th>Newspaper</th>\n",
       "      <th>Sales</th>\n",
       "    </tr>\n",
       "  </thead>\n",
       "  <tbody>\n",
       "    <tr>\n",
       "      <th>0</th>\n",
       "      <td>230.1</td>\n",
       "      <td>37.8</td>\n",
       "      <td>69.2</td>\n",
       "      <td>22.1</td>\n",
       "    </tr>\n",
       "    <tr>\n",
       "      <th>1</th>\n",
       "      <td>44.5</td>\n",
       "      <td>39.3</td>\n",
       "      <td>45.1</td>\n",
       "      <td>10.4</td>\n",
       "    </tr>\n",
       "    <tr>\n",
       "      <th>2</th>\n",
       "      <td>17.2</td>\n",
       "      <td>45.9</td>\n",
       "      <td>69.3</td>\n",
       "      <td>12.0</td>\n",
       "    </tr>\n",
       "    <tr>\n",
       "      <th>3</th>\n",
       "      <td>151.5</td>\n",
       "      <td>41.3</td>\n",
       "      <td>58.5</td>\n",
       "      <td>16.5</td>\n",
       "    </tr>\n",
       "    <tr>\n",
       "      <th>4</th>\n",
       "      <td>180.8</td>\n",
       "      <td>10.8</td>\n",
       "      <td>58.4</td>\n",
       "      <td>17.9</td>\n",
       "    </tr>\n",
       "    <tr>\n",
       "      <th>5</th>\n",
       "      <td>8.7</td>\n",
       "      <td>48.9</td>\n",
       "      <td>75.0</td>\n",
       "      <td>7.2</td>\n",
       "    </tr>\n",
       "    <tr>\n",
       "      <th>6</th>\n",
       "      <td>57.5</td>\n",
       "      <td>32.8</td>\n",
       "      <td>23.5</td>\n",
       "      <td>11.8</td>\n",
       "    </tr>\n",
       "    <tr>\n",
       "      <th>7</th>\n",
       "      <td>120.2</td>\n",
       "      <td>19.6</td>\n",
       "      <td>11.6</td>\n",
       "      <td>13.2</td>\n",
       "    </tr>\n",
       "    <tr>\n",
       "      <th>8</th>\n",
       "      <td>8.6</td>\n",
       "      <td>2.1</td>\n",
       "      <td>1.0</td>\n",
       "      <td>4.8</td>\n",
       "    </tr>\n",
       "    <tr>\n",
       "      <th>9</th>\n",
       "      <td>199.8</td>\n",
       "      <td>2.6</td>\n",
       "      <td>21.2</td>\n",
       "      <td>15.6</td>\n",
       "    </tr>\n",
       "  </tbody>\n",
       "</table>\n",
       "</div>"
      ],
      "text/plain": [
       "      TV  Radio  Newspaper  Sales\n",
       "0  230.1   37.8       69.2   22.1\n",
       "1   44.5   39.3       45.1   10.4\n",
       "2   17.2   45.9       69.3   12.0\n",
       "3  151.5   41.3       58.5   16.5\n",
       "4  180.8   10.8       58.4   17.9\n",
       "5    8.7   48.9       75.0    7.2\n",
       "6   57.5   32.8       23.5   11.8\n",
       "7  120.2   19.6       11.6   13.2\n",
       "8    8.6    2.1        1.0    4.8\n",
       "9  199.8    2.6       21.2   15.6"
      ]
     },
     "execution_count": 4,
     "metadata": {},
     "output_type": "execute_result"
    }
   ],
   "source": [
    "df.head(10)"
   ]
  },
  {
   "cell_type": "code",
   "execution_count": 5,
   "metadata": {},
   "outputs": [
    {
     "data": {
      "text/plain": [
       "TV           0\n",
       "Radio        0\n",
       "Newspaper    0\n",
       "Sales        0\n",
       "dtype: int64"
      ]
     },
     "execution_count": 5,
     "metadata": {},
     "output_type": "execute_result"
    }
   ],
   "source": [
    "df.isnull().sum()"
   ]
  },
  {
   "cell_type": "code",
   "execution_count": 6,
   "metadata": {},
   "outputs": [],
   "source": [
    "# Select the feature and target\n",
    "x = df['Radio'].values.reshape(-1, 1)  # Feature (reshape for scikit-learn)\n",
    "y = df[['Sales']].values  # Target\n"
   ]
  },
  {
   "cell_type": "code",
   "execution_count": 7,
   "metadata": {},
   "outputs": [],
   "source": [
    "# x = df.iloc[:, -1].values\n",
    "# y = df.iloc[:,:7].values\n"
   ]
  },
  {
   "cell_type": "code",
   "execution_count": 8,
   "metadata": {},
   "outputs": [],
   "source": [
    "from sklearn.model_selection import train_test_split\n",
    "\n",
    "# Split the data into training and testing sets\n",
    "x_train, x_test, y_train, y_test = train_test_split(x, y, test_size=0.2, random_state=42)\n"
   ]
  },
  {
   "cell_type": "code",
   "execution_count": 9,
   "metadata": {},
   "outputs": [
    {
     "data": {
      "text/html": [
       "<style>#sk-container-id-1 {color: black;}#sk-container-id-1 pre{padding: 0;}#sk-container-id-1 div.sk-toggleable {background-color: white;}#sk-container-id-1 label.sk-toggleable__label {cursor: pointer;display: block;width: 100%;margin-bottom: 0;padding: 0.3em;box-sizing: border-box;text-align: center;}#sk-container-id-1 label.sk-toggleable__label-arrow:before {content: \"▸\";float: left;margin-right: 0.25em;color: #696969;}#sk-container-id-1 label.sk-toggleable__label-arrow:hover:before {color: black;}#sk-container-id-1 div.sk-estimator:hover label.sk-toggleable__label-arrow:before {color: black;}#sk-container-id-1 div.sk-toggleable__content {max-height: 0;max-width: 0;overflow: hidden;text-align: left;background-color: #f0f8ff;}#sk-container-id-1 div.sk-toggleable__content pre {margin: 0.2em;color: black;border-radius: 0.25em;background-color: #f0f8ff;}#sk-container-id-1 input.sk-toggleable__control:checked~div.sk-toggleable__content {max-height: 200px;max-width: 100%;overflow: auto;}#sk-container-id-1 input.sk-toggleable__control:checked~label.sk-toggleable__label-arrow:before {content: \"▾\";}#sk-container-id-1 div.sk-estimator input.sk-toggleable__control:checked~label.sk-toggleable__label {background-color: #d4ebff;}#sk-container-id-1 div.sk-label input.sk-toggleable__control:checked~label.sk-toggleable__label {background-color: #d4ebff;}#sk-container-id-1 input.sk-hidden--visually {border: 0;clip: rect(1px 1px 1px 1px);clip: rect(1px, 1px, 1px, 1px);height: 1px;margin: -1px;overflow: hidden;padding: 0;position: absolute;width: 1px;}#sk-container-id-1 div.sk-estimator {font-family: monospace;background-color: #f0f8ff;border: 1px dotted black;border-radius: 0.25em;box-sizing: border-box;margin-bottom: 0.5em;}#sk-container-id-1 div.sk-estimator:hover {background-color: #d4ebff;}#sk-container-id-1 div.sk-parallel-item::after {content: \"\";width: 100%;border-bottom: 1px solid gray;flex-grow: 1;}#sk-container-id-1 div.sk-label:hover label.sk-toggleable__label {background-color: #d4ebff;}#sk-container-id-1 div.sk-serial::before {content: \"\";position: absolute;border-left: 1px solid gray;box-sizing: border-box;top: 0;bottom: 0;left: 50%;z-index: 0;}#sk-container-id-1 div.sk-serial {display: flex;flex-direction: column;align-items: center;background-color: white;padding-right: 0.2em;padding-left: 0.2em;position: relative;}#sk-container-id-1 div.sk-item {position: relative;z-index: 1;}#sk-container-id-1 div.sk-parallel {display: flex;align-items: stretch;justify-content: center;background-color: white;position: relative;}#sk-container-id-1 div.sk-item::before, #sk-container-id-1 div.sk-parallel-item::before {content: \"\";position: absolute;border-left: 1px solid gray;box-sizing: border-box;top: 0;bottom: 0;left: 50%;z-index: -1;}#sk-container-id-1 div.sk-parallel-item {display: flex;flex-direction: column;z-index: 1;position: relative;background-color: white;}#sk-container-id-1 div.sk-parallel-item:first-child::after {align-self: flex-end;width: 50%;}#sk-container-id-1 div.sk-parallel-item:last-child::after {align-self: flex-start;width: 50%;}#sk-container-id-1 div.sk-parallel-item:only-child::after {width: 0;}#sk-container-id-1 div.sk-dashed-wrapped {border: 1px dashed gray;margin: 0 0.4em 0.5em 0.4em;box-sizing: border-box;padding-bottom: 0.4em;background-color: white;}#sk-container-id-1 div.sk-label label {font-family: monospace;font-weight: bold;display: inline-block;line-height: 1.2em;}#sk-container-id-1 div.sk-label-container {text-align: center;}#sk-container-id-1 div.sk-container {/* jupyter's `normalize.less` sets `[hidden] { display: none; }` but bootstrap.min.css set `[hidden] { display: none !important; }` so we also need the `!important` here to be able to override the default hidden behavior on the sphinx rendered scikit-learn.org. See: https://github.com/scikit-learn/scikit-learn/issues/21755 */display: inline-block !important;position: relative;}#sk-container-id-1 div.sk-text-repr-fallback {display: none;}</style><div id=\"sk-container-id-1\" class=\"sk-top-container\"><div class=\"sk-text-repr-fallback\"><pre>LinearRegression()</pre><b>In a Jupyter environment, please rerun this cell to show the HTML representation or trust the notebook. <br />On GitHub, the HTML representation is unable to render, please try loading this page with nbviewer.org.</b></div><div class=\"sk-container\" hidden><div class=\"sk-item\"><div class=\"sk-estimator sk-toggleable\"><input class=\"sk-toggleable__control sk-hidden--visually\" id=\"sk-estimator-id-1\" type=\"checkbox\" checked><label for=\"sk-estimator-id-1\" class=\"sk-toggleable__label sk-toggleable__label-arrow\">LinearRegression</label><div class=\"sk-toggleable__content\"><pre>LinearRegression()</pre></div></div></div></div></div>"
      ],
      "text/plain": [
       "LinearRegression()"
      ]
     },
     "execution_count": 9,
     "metadata": {},
     "output_type": "execute_result"
    }
   ],
   "source": [
    "from sklearn.linear_model import LinearRegression\n",
    "\n",
    "# Create a linear regression model\n",
    "model = LinearRegression()\n",
    "\n",
    "# Fit the model to the training data\n",
    "model.fit(x_train, y_train)\n"
   ]
  },
  {
   "cell_type": "code",
   "execution_count": 10,
   "metadata": {},
   "outputs": [],
   "source": [
    "y_pred = model.predict(x_test)"
   ]
  },
  {
   "cell_type": "code",
   "execution_count": 11,
   "metadata": {},
   "outputs": [
    {
     "data": {
      "text/plain": [
       "array([[216.58745777]])"
      ]
     },
     "execution_count": 11,
     "metadata": {},
     "output_type": "execute_result"
    }
   ],
   "source": [
    "model.predict([[1700]])"
   ]
  },
  {
   "cell_type": "code",
   "execution_count": 12,
   "metadata": {},
   "outputs": [
    {
     "name": "stdout",
     "output_type": "stream",
     "text": [
      "[[16.37755992]\n",
      " [18.30957824]\n",
      " [15.98155617]\n",
      " [17.01356595]\n",
      " [18.46557972]\n",
      " [16.78556379]\n",
      " [17.85357392]\n",
      " [13.97753717]\n",
      " [12.99352785]\n",
      " [15.28554957]\n",
      " [15.53755196]\n",
      " [13.26953046]\n",
      " [12.99352785]\n",
      " [16.17355799]\n",
      " [12.83752637]\n",
      " [13.52153285]\n",
      " [15.95755594]\n",
      " [15.38155048]\n",
      " [15.02154707]\n",
      " [15.88555526]\n",
      " [16.46156072]\n",
      " [16.97756561]\n",
      " [17.42156982]\n",
      " [16.9655655 ]\n",
      " [13.70153456]\n",
      " [12.82552625]\n",
      " [17.74557289]\n",
      " [14.32554047]\n",
      " [14.0015374 ]\n",
      " [15.84955492]\n",
      " [12.89752694]\n",
      " [15.0455473 ]\n",
      " [18.51358017]\n",
      " [17.82957369]\n",
      " [14.25353979]\n",
      " [16.701563  ]\n",
      " [18.22557744]\n",
      " [16.05355685]\n",
      " [14.3495407 ]\n",
      " [12.7775258 ]]\n"
     ]
    }
   ],
   "source": [
    "print(y_pred)"
   ]
  },
  {
   "cell_type": "code",
   "execution_count": 13,
   "metadata": {},
   "outputs": [
    {
     "name": "stdout",
     "output_type": "stream",
     "text": [
      "(160, 1)\n",
      "(40, 1)\n"
     ]
    }
   ],
   "source": [
    "print(x_train.shape)\n",
    "print(x_test.shape)"
   ]
  },
  {
   "cell_type": "code",
   "execution_count": 14,
   "metadata": {},
   "outputs": [
    {
     "name": "stdout",
     "output_type": "stream",
     "text": [
      "[[ 7.7]\n",
      " [ 9.3]\n",
      " [26.7]\n",
      " [12.6]\n",
      " [ 2.4]\n",
      " [ 3.7]\n",
      " [16. ]\n",
      " [23.9]\n",
      " [ 5.7]\n",
      " [27.5]\n",
      " [46.8]\n",
      " [ 7.1]\n",
      " [48.9]\n",
      " [38.9]\n",
      " [ 0.8]\n",
      " [ 5.7]\n",
      " [17. ]\n",
      " [42.3]\n",
      " [20.1]\n",
      " [ 3.5]\n",
      " [10.6]\n",
      " [21. ]\n",
      " [17.4]\n",
      " [35.1]\n",
      " [ 4.1]\n",
      " [16. ]\n",
      " [27.7]\n",
      " [12.1]\n",
      " [ 4.9]\n",
      " [39. ]\n",
      " [ 9.6]\n",
      " [ 0. ]\n",
      " [18.1]\n",
      " [33.4]\n",
      " [36.9]\n",
      " [20.6]\n",
      " [29.3]\n",
      " [43.9]\n",
      " [ 4.3]\n",
      " [38. ]\n",
      " [45.9]\n",
      " [28.5]\n",
      " [ 9.9]\n",
      " [28.7]\n",
      " [10.8]\n",
      " [18.4]\n",
      " [35.8]\n",
      " [43.8]\n",
      " [41.1]\n",
      " [42.7]\n",
      " [15.9]\n",
      " [35.4]\n",
      " [36.3]\n",
      " [20. ]\n",
      " [24. ]\n",
      " [35.6]\n",
      " [18.4]\n",
      " [32.8]\n",
      " [16.7]\n",
      " [26.8]\n",
      " [10.8]\n",
      " [ 1.5]\n",
      " [33.2]\n",
      " [ 1.9]\n",
      " [26.9]\n",
      " [14.8]\n",
      " [ 5.8]\n",
      " [15.5]\n",
      " [15.4]\n",
      " [ 7.3]\n",
      " [37.6]\n",
      " [37.8]\n",
      " [42. ]\n",
      " [39.7]\n",
      " [30.6]\n",
      " [34.6]\n",
      " [42.8]\n",
      " [25.7]\n",
      " [36.8]\n",
      " [27.1]\n",
      " [22.3]\n",
      " [ 0.4]\n",
      " [11.6]\n",
      " [43.5]\n",
      " [ 3.5]\n",
      " [16.9]\n",
      " [21.3]\n",
      " [49. ]\n",
      " [ 4.1]\n",
      " [37.7]\n",
      " [23.6]\n",
      " [41.5]\n",
      " [14. ]\n",
      " [21.1]\n",
      " [ 8.4]\n",
      " [25.9]\n",
      " [41.3]\n",
      " [46.4]\n",
      " [46.2]\n",
      " [33.5]\n",
      " [ 2.6]\n",
      " [ 2.3]\n",
      " [45.1]\n",
      " [11.7]\n",
      " [26.7]\n",
      " [ 1.4]\n",
      " [19.6]\n",
      " [ 8.2]\n",
      " [ 1.5]\n",
      " [44.5]\n",
      " [30.2]\n",
      " [ 5.4]\n",
      " [47.8]\n",
      " [ 2.1]\n",
      " [ 7.6]\n",
      " [29.5]\n",
      " [20.9]\n",
      " [ 2.9]\n",
      " [39.6]\n",
      " [33. ]\n",
      " [48.9]\n",
      " [38.6]\n",
      " [ 5.2]\n",
      " [43. ]\n",
      " [29.6]\n",
      " [28.8]\n",
      " [ 0.3]\n",
      " [ 3.1]\n",
      " [ 4.9]\n",
      " [49.6]\n",
      " [15.8]\n",
      " [25.5]\n",
      " [ 5.1]\n",
      " [19.2]\n",
      " [18.1]\n",
      " [ 4.1]\n",
      " [12. ]\n",
      " [49.4]\n",
      " [ 1.3]\n",
      " [42. ]\n",
      " [39.3]\n",
      " [41.7]\n",
      " [25.8]\n",
      " [39.6]\n",
      " [ 8.4]\n",
      " [17.2]\n",
      " [41.7]\n",
      " [14.3]\n",
      " [40.6]\n",
      " [24.6]\n",
      " [21.7]\n",
      " [ 8.6]\n",
      " [27.7]\n",
      " [13.9]\n",
      " [14.3]\n",
      " [11. ]\n",
      " [32.9]\n",
      " [33.5]\n",
      " [10. ]\n",
      " [10.1]]\n"
     ]
    }
   ],
   "source": [
    "print(x_train)"
   ]
  },
  {
   "cell_type": "code",
   "execution_count": 15,
   "metadata": {},
   "outputs": [
    {
     "name": "stdout",
     "output_type": "stream",
     "text": [
      "[[31.6]\n",
      " [47.7]\n",
      " [28.3]\n",
      " [36.9]\n",
      " [49. ]\n",
      " [35. ]\n",
      " [43.9]\n",
      " [11.6]\n",
      " [ 3.4]\n",
      " [22.5]\n",
      " [24.6]\n",
      " [ 5.7]\n",
      " [ 3.4]\n",
      " [29.9]\n",
      " [ 2.1]\n",
      " [ 7.8]\n",
      " [28.1]\n",
      " [23.3]\n",
      " [20.3]\n",
      " [27.5]\n",
      " [32.3]\n",
      " [36.6]\n",
      " [40.3]\n",
      " [36.5]\n",
      " [ 9.3]\n",
      " [ 2. ]\n",
      " [43. ]\n",
      " [14.5]\n",
      " [11.8]\n",
      " [27.2]\n",
      " [ 2.6]\n",
      " [20.5]\n",
      " [49.4]\n",
      " [43.7]\n",
      " [13.9]\n",
      " [34.3]\n",
      " [47. ]\n",
      " [28.9]\n",
      " [14.7]\n",
      " [ 1.6]]\n"
     ]
    }
   ],
   "source": [
    "print(x_test)"
   ]
  },
  {
   "cell_type": "code",
   "execution_count": 16,
   "metadata": {},
   "outputs": [],
   "source": [
    "scaler = StandardScaler()\n",
    "X_train_scaled = scaler.fit_transform(x_train)\n",
    "X_test_scaled = scaler.transform(x_test)"
   ]
  },
  {
   "cell_type": "markdown",
   "metadata": {},
   "source": [
    "<h4> FORMULAS IMPORTANT TO LEARN</h4>"
   ]
  },
  {
   "cell_type": "code",
   "execution_count": 17,
   "metadata": {},
   "outputs": [
    {
     "name": "stdout",
     "output_type": "stream",
     "text": [
      "ANSWER\n",
      "**************************************************************\n",
      "Coefficients: [0.12000114]\n",
      "Intercept: [12.58552398]\n",
      "Residual Sum of Squares: 1103.8232779433267\n",
      "Coefficient of Determination (R^2): 0.10697088619553441\n",
      "**************************************************************\n"
     ]
    }
   ],
   "source": [
    "# Coefficients\n",
    "coefficients = model.coef_[0]\n",
    "intercept = model.intercept_\n",
    "\n",
    "# Residual sum of squares\n",
    "rss = ((y_test - model.predict(x_test)) ** 2).sum()\n",
    "\n",
    "# Coefficient of determination (R^2)\n",
    "r2 = model.score(x_test, y_test)\n",
    "print(\"ANSWER\")\n",
    "\n",
    "print('**************************************************************')\n",
    "print(f'Coefficients: {coefficients}')\n",
    "print(f'Intercept: {intercept}')\n",
    "print(f'Residual Sum of Squares: {rss}')\n",
    "print(f'Coefficient of Determination (R^2): {r2}')\n",
    "print('**************************************************************')\n",
    "\n"
   ]
  },
  {
   "cell_type": "code",
   "execution_count": 18,
   "metadata": {},
   "outputs": [
    {
     "data": {
      "image/png": "[encoded data removed]",
      "text/plain": [
       "<Figure size 640x480 with 1 Axes>"
      ]
     },
     "metadata": {},
     "output_type": "display_data"
    }
   ],
   "source": [
    "plt.scatter(x_test, y_test, color='blue', label='Actual Data')\n",
    "\n",
    "# Plot the regression line\n",
    "plt.plot(x_test, y_pred, color='red', linewidth=3, label='Regression Line')\n",
    "\n",
    "# Add labels and a legend\n",
    "plt.xlabel('Radio')\n",
    "plt.ylabel('SALES')\n",
    "plt.title('Simple Linear Regression Visualization')\n",
    "plt.legend()\n",
    "\n",
    "# Display the plot\n",
    "plt.show()"
   ]
  },
  {
   "cell_type": "code",
   "execution_count": null,
   "metadata": {},
   "outputs": [],
   "source": []
  },
  {
   "cell_type": "code",
   "execution_count": null,
   "metadata": {},
   "outputs": [],
   "source": []
  }
 ],
 "metadata": {
  "kernelspec": {
   "display_name": "Python 3",
   "language": "python",
   "name": "python3"
  },
  "language_info": {
   "codemirror_mode": {
    "name": "ipython",
    "version": 3
   },
   "file_extension": ".py",
   "mimetype": "text/x-python",
   "name": "python",
   "nbconvert_exporter": "python",
   "pygments_lexer": "ipython3",
   "version": "3.11.4"
  }
 },
 "nbformat": 4,
 "nbformat_minor": 2
}
